{
  "nbformat": 4,
  "nbformat_minor": 0,
  "metadata": {
    "colab": {
      "name": "LEVEL2.ipynb",
      "provenance": [],
      "collapsed_sections": [],
      "authorship_tag": "ABX9TyML+53x/KfLlTnxvrwWuYb+",
      "include_colab_link": true
    },
    "kernelspec": {
      "name": "python3",
      "display_name": "Python 3"
    },
    "language_info": {
      "name": "python"
    }
  },
  "cells": [
    {
      "cell_type": "markdown",
      "metadata": {
        "id": "view-in-github",
        "colab_type": "text"
      },
      "source": [
        "<a href=\"https://colab.research.google.com/github/RobynYuan/big-data-challenge/blob/main/LEVEL2.ipynb\" target=\"_parent\"><img src=\"https://colab.research.google.com/assets/colab-badge.svg\" alt=\"Open In Colab\"/></a>"
      ]
    },
    {
      "cell_type": "code",
      "execution_count": 7,
      "metadata": {
        "colab": {
          "base_uri": "https://localhost:8080/"
        },
        "id": "wLzpJ-Hcpabm",
        "outputId": "cc0848e3-d345-4f49-8710-3d722838e83a"
      },
      "outputs": [
        {
          "output_type": "stream",
          "name": "stdout",
          "text": [
            "\r0% [Working]\r            \rGet:1 http://security.ubuntu.com/ubuntu bionic-security InRelease [88.7 kB]\n",
            "\r0% [Waiting for headers] [1 InRelease 14.2 kB/88.7 kB 16%] [Connected to cloud.\r                                                                               \rGet:2 https://cloud.r-project.org/bin/linux/ubuntu bionic-cran40/ InRelease [3,626 B]\n",
            "\r0% [Waiting for headers] [1 InRelease 14.2 kB/88.7 kB 16%] [2 InRelease 0 B/3,6\r0% [Waiting for headers] [1 InRelease 20.0 kB/88.7 kB 23%] [Connecting to ppa.l\r                                                                               \rHit:3 http://archive.ubuntu.com/ubuntu bionic InRelease\n",
            "\r0% [Waiting for headers] [1 InRelease 20.0 kB/88.7 kB 23%] [Connecting to ppa.l\r0% [2 InRelease gpgv 3,626 B] [Waiting for headers] [1 InRelease 20.0 kB/88.7 k\r                                                                               \rGet:4 http://archive.ubuntu.com/ubuntu bionic-updates InRelease [88.7 kB]\n",
            "Ign:5 https://developer.download.nvidia.com/compute/cuda/repos/ubuntu1804/x86_64  InRelease\n",
            "Ign:6 https://developer.download.nvidia.com/compute/machine-learning/repos/ubuntu1804/x86_64  InRelease\n",
            "Get:7 http://ppa.launchpad.net/c2d4u.team/c2d4u4.0+/ubuntu bionic InRelease [15.9 kB]\n",
            "Get:8 https://developer.download.nvidia.com/compute/cuda/repos/ubuntu1804/x86_64  Release [696 B]\n",
            "Hit:9 https://developer.download.nvidia.com/compute/machine-learning/repos/ubuntu1804/x86_64  Release\n",
            "Get:10 https://developer.download.nvidia.com/compute/cuda/repos/ubuntu1804/x86_64  Release.gpg [836 B]\n",
            "Get:11 http://archive.ubuntu.com/ubuntu bionic-backports InRelease [74.6 kB]\n",
            "Hit:12 http://ppa.launchpad.net/cran/libgit2/ubuntu bionic InRelease\n",
            "Get:13 http://ppa.launchpad.net/deadsnakes/ppa/ubuntu bionic InRelease [15.9 kB]\n",
            "Get:14 http://security.ubuntu.com/ubuntu bionic-security/main amd64 Packages [2,695 kB]\n",
            "Hit:15 http://ppa.launchpad.net/graphics-drivers/ppa/ubuntu bionic InRelease\n",
            "Get:16 http://security.ubuntu.com/ubuntu bionic-security/universe amd64 Packages [1,490 kB]\n",
            "Get:17 http://archive.ubuntu.com/ubuntu bionic-updates/main amd64 Packages [3,134 kB]\n",
            "Get:18 http://archive.ubuntu.com/ubuntu bionic-updates/universe amd64 Packages [2,268 kB]\n",
            "Get:20 https://developer.download.nvidia.com/compute/cuda/repos/ubuntu1804/x86_64  Packages [953 kB]\n",
            "Get:21 http://ppa.launchpad.net/c2d4u.team/c2d4u4.0+/ubuntu bionic/main Sources [1,947 kB]\n",
            "Get:22 http://ppa.launchpad.net/c2d4u.team/c2d4u4.0+/ubuntu bionic/main amd64 Packages [996 kB]\n",
            "Get:23 http://ppa.launchpad.net/deadsnakes/ppa/ubuntu bionic/main amd64 Packages [45.3 kB]\n",
            "Fetched 13.8 MB in 5s (2,825 kB/s)\n",
            "Reading package lists... Done\n"
          ]
        }
      ],
      "source": [
        "import os\n",
        "# Find the latest version of spark 3.0  from http://www.apache.org/dist/spark/ and enter as the spark version\n",
        "# For example:\n",
        "spark_version = 'spark-3.0.3'\n",
        "# spark_version = 'spark-3.<enter version>'\n",
        "os.environ['SPARK_VERSION']=spark_version\n",
        "\n",
        "# Install Spark and Java\n",
        "!apt-get update\n",
        "!apt-get install openjdk-8-jdk-headless -qq > /dev/null\n",
        "!wget -q http://www.apache.org/dist/spark/$SPARK_VERSION/$SPARK_VERSION-bin-hadoop2.7.tgz\n",
        "!tar xf $SPARK_VERSION-bin-hadoop2.7.tgz\n",
        "!pip install -q findspark\n",
        "\n",
        "# Set Environment Variables\n",
        "os.environ[\"JAVA_HOME\"] = \"/usr/lib/jvm/java-8-openjdk-amd64\"\n",
        "os.environ[\"SPARK_HOME\"] = f\"/content/{spark_version}-bin-hadoop2.7\"\n",
        "\n",
        "# Start a SparkSession\n",
        "import findspark\n",
        "findspark.init()\n"
      ]
    },
    {
      "cell_type": "code",
      "source": [
        "!wget https://jdbc.postgresql.org/download/postgresql-42.2.9.jar"
      ],
      "metadata": {
        "colab": {
          "base_uri": "https://localhost:8080/"
        },
        "id": "aWGvQGMepreV",
        "outputId": "d3a4273c-4c82-49c9-faf7-6c18b86f4ee8"
      },
      "execution_count": 8,
      "outputs": [
        {
          "output_type": "stream",
          "name": "stdout",
          "text": [
            "--2022-04-18 03:04:16--  https://jdbc.postgresql.org/download/postgresql-42.2.9.jar\n",
            "Resolving jdbc.postgresql.org (jdbc.postgresql.org)... 72.32.157.228, 2001:4800:3e1:1::228\n",
            "Connecting to jdbc.postgresql.org (jdbc.postgresql.org)|72.32.157.228|:443... connected.\n",
            "HTTP request sent, awaiting response... 200 OK\n",
            "Length: 914037 (893K) [application/java-archive]\n",
            "Saving to: ‘postgresql-42.2.9.jar’\n",
            "\n",
            "postgresql-42.2.9.j 100%[===================>] 892.61K  --.-KB/s    in 0.09s   \n",
            "\n",
            "2022-04-18 03:04:16 (9.96 MB/s) - ‘postgresql-42.2.9.jar’ saved [914037/914037]\n",
            "\n"
          ]
        }
      ]
    },
    {
      "cell_type": "code",
      "source": [
        "from pyspark.sql import SparkSession\n",
        "spark = SparkSession.builder.appName(\"CloudETL\").config(\"spark.driver.extraClassPath\",\"/content/postgresql-42.2.9.jar\").getOrCreate()"
      ],
      "metadata": {
        "id": "yAdoMx_ekvsO"
      },
      "execution_count": 9,
      "outputs": []
    },
    {
      "cell_type": "code",
      "source": [
        "from pyspark.shell import spark\n",
        "from pyspark import SparkFiles\n",
        "url=\"https://s3.amazonaws.com/amazon-reviews-pds/tsv/amazon_reviews_us_Grocery_v1_00.tsv.gz\"\n",
        "spark.sparkContext.addFile(url)\n",
        "grocery_reveiws_df = spark.read.csv(SparkFiles.get(\"amazon_reviews_us_Grocery_v1_00.tsv.gz\"), sep=\"\\t\", header=True, inferSchema=True)\n",
        "\n",
        "# Show DataFrame\n",
        "\n",
        "grocery_reveiws_df=grocery_reveiws_df.dropDuplicates()\n",
        "grocery_reveiws_df=grocery_reveiws_df.na.drop()\n",
        "grocery_reveiws_df.show() \n"
      ],
      "metadata": {
        "colab": {
          "base_uri": "https://localhost:8080/"
        },
        "id": "UIaliKO6FAaa",
        "outputId": "4969871e-f0db-4610-ca10-4b861a5aeea2"
      },
      "execution_count": 28,
      "outputs": [
        {
          "output_type": "stream",
          "name": "stdout",
          "text": [
            "+-----------+-----------+--------------+----------+--------------+--------------------+----------------+-----------+-------------+-----------+----+-----------------+--------------------+--------------------+-----------+\n",
            "|marketplace|customer_id|     review_id|product_id|product_parent|       product_title|product_category|star_rating|helpful_votes|total_votes|vine|verified_purchase|     review_headline|         review_body|review_date|\n",
            "+-----------+-----------+--------------+----------+--------------+--------------------+----------------+-----------+-------------+-----------+----+-----------------+--------------------+--------------------+-----------+\n",
            "|         US|   46873148|R100WFYHG5LBQZ|B003PWC346|     822134010|Frontier CO-OP Ce...|         Grocery|          5|            0|          0|   N|                Y|          Five Stars|Always a quality ...| 2014-11-06|\n",
            "|         US|   29532905|R10174PSJAET60|B00PT66JYQ|     749978411|Morning Pep Pure ...|         Grocery|          4|           14|         16|   N|                Y|Caused Gas, Pain,...|I had a painful r...| 2015-01-09|\n",
            "|         US|   47594902|R101DUK4KGSZKO|B000REGVC0|     245638153|Kellogg's Bite Si...|         Grocery|          5|            1|          1|   N|                N|Freshest box of c...|I have had this c...| 2008-02-18|\n",
            "|         US|   21812686|R102BWOXH8BAGB|B00M2OGS08|     715217277|Surge Citrus Flav...|         Grocery|          5|            0|          0|   N|                Y|          Five Stars|Tasted like Surge...| 2015-02-25|\n",
            "|         US|   20091223|R102FRHV3HVRYH|B004EKHMXU|     783192559|Healthworks Cacao...|         Grocery|          1|            2|          2|   N|                Y|Very biter to the...|This stuff is tot...| 2014-05-26|\n",
            "|         US|   26262840|R102FVV96K2XPX|B00ANXWKU2|     580871360|Thai and True Hot...|         Grocery|          5|            0|          1|   N|                Y|          Five Stars| p delvetu<br />Ptom| 2014-09-30|\n",
            "|         US|   15820623|R102NGGB4MYAUU|B004IXYLK0|     428171752|Krusteaz No Knead...|         Grocery|          5|            1|          1|   N|                Y|          Delicious!|Pop this in the b...| 2014-05-31|\n",
            "|         US|   12722360|R103DLW6KGTI1T|B00O1A0E6U|     449370336|Delamere Goat But...|         Grocery|          5|            4|          4|   N|                Y|          Five Stars|I like it better ...| 2015-02-18|\n",
            "|         US|    8814515|R103KHSB6CGXI6|B00FX1QCQC|     710636277|MatchaDNA Black M...|         Grocery|          5|            0|          0|   N|                N|I have never real...|Delicious tea!!! ...| 2014-10-07|\n",
            "|         US|   11956527|R103STKNZXONLT|B00JD8V2HA|     612411339|Jell-O Instant Ch...|         Grocery|          5|            2|          2|   N|                Y|                Yum!|This is absolutel...| 2015-08-07|\n",
            "|         US|    8179664|R103ZT2DYXD1PT|B001KWZKXE|     869231679|Adagio Iced Tea, ...|         Grocery|          5|            0|          0|   N|                Y|         Outstanding|I first had this ...| 2013-07-12|\n",
            "|         US|   21416238|R1050BKZKF25VY|B000MNJNRQ|     309219413|World's Best Cat ...|         Grocery|          3|            1|          1|   N|                N|Decent clumping a...|I've been using W...| 2014-03-20|\n",
            "|         US|   51706631|R1056ENMKS02UI|B001KWCXEI|     679970137|Real Salt - Natur...|         Grocery|          5|            0|          0|   N|                Y|Awesome natural s...|I first tried thi...| 2013-08-26|\n",
            "|         US|   40247573|R106AXUR0NY7Q3|B000100IGA|     928438705|Asbach Uralt Bran...|         Grocery|          5|            0|          0|   N|                Y|      I miss Germany|I eat these candy...| 2014-11-13|\n",
            "|         US|   52602728|R106F7QWXGDXM9|B003P7ZMXA|     782573293|Wonderful Pistach...|         Grocery|          5|            0|          0|   N|                Y|Nuts about pistac...|Fresh, and natura...| 2013-05-29|\n",
            "|         US|   17063912|R106WSCGKLQW88|B000EUHGB2|      76400315|     Wasa Crispbread|         Grocery|          1|            4|          4|   N|                Y|NOT SOURDOUGH- ta...|no sourdough tast...| 2014-09-20|\n",
            "|         US|   49239521|R106XSGG8Z7DOJ|B003YI2KPS|     252273016|Sun Date Californ...|         Grocery|          1|            2|          3|   N|                N|                Mold|I like the dates ...| 2014-05-13|\n",
            "|         US|   22994589|R1070VWD79Q3ZM|B000F3WSFC|     535506702|Taylors of Harrog...|         Grocery|          5|            0|          0|   N|                Y|My Favorite Stand...|I drink this tea ...| 2013-08-11|\n",
            "|         US|   19147527|R107CBDY923TG6|B004GU3Z5M|     766050997|Good Sense Sunflo...|         Grocery|          5|            4|          4|   N|                Y|       Great eating!|These sunflower s...| 2012-01-02|\n",
            "|         US|   11772713|R107IMY6GGMP2Z|B008JDUIVQ|     840475983|Atkinson's Purple...|         Grocery|          1|            1|          1|   N|                Y|Candies arrived i...|Candies arrived i...| 2014-10-11|\n",
            "+-----------+-----------+--------------+----------+--------------+--------------------+----------------+-----------+-------------+-----------+----+-----------------+--------------------+--------------------+-----------+\n",
            "only showing top 20 rows\n",
            "\n"
          ]
        }
      ]
    },
    {
      "cell_type": "code",
      "source": [
        "print(grocery_reveiws_df.count())"
      ],
      "metadata": {
        "colab": {
          "base_uri": "https://localhost:8080/"
        },
        "id": "13pF5f2dlLAG",
        "outputId": "21ab858b-c2a6-4c17-f5c0-8be2205bea90"
      },
      "execution_count": 29,
      "outputs": [
        {
          "output_type": "stream",
          "name": "stdout",
          "text": [
            "2402212\n"
          ]
        }
      ]
    },
    {
      "cell_type": "code",
      "source": [
        "selected_grocery_reveiws_df= grocery_reveiws_df.select([\"star_rating\", \"helpful_votes\", \"total_votes\", \"vine\", \"verified_purchase\"])\n",
        "selected_grocery_reveiws_df.show(10)"
      ],
      "metadata": {
        "colab": {
          "base_uri": "https://localhost:8080/"
        },
        "id": "6-ECnDsHnZxb",
        "outputId": "0843bd57-1251-4b9c-ab2b-91a6284e17f7"
      },
      "execution_count": 12,
      "outputs": [
        {
          "output_type": "stream",
          "name": "stdout",
          "text": [
            "+-----------+-------------+-----------+----+-----------------+\n",
            "|star_rating|helpful_votes|total_votes|vine|verified_purchase|\n",
            "+-----------+-------------+-----------+----+-----------------+\n",
            "|          5|            0|          0|   N|                Y|\n",
            "|          5|            0|          0|   N|                Y|\n",
            "|          5|            0|          0|   N|                N|\n",
            "|          5|            0|          0|   N|                Y|\n",
            "|          5|            0|          0|   N|                Y|\n",
            "|          2|            1|          1|   N|                Y|\n",
            "|          5|            1|          1|   N|                Y|\n",
            "|          5|            2|          2|   N|                Y|\n",
            "|          5|            0|          0|   N|                N|\n",
            "|          1|            1|          3|   N|                N|\n",
            "+-----------+-------------+-----------+----+-----------------+\n",
            "only showing top 10 rows\n",
            "\n"
          ]
        }
      ]
    },
    {
      "cell_type": "code",
      "source": [
        " # Filter for greater than 20 total votes\n",
        "total_votes_reveiws_df = selected_grocery_reveiws_df.filter(selected_grocery_reveiws_df[\"total_votes\"] >= 20)\n",
        "total_votes_reveiws_df.show(10)"
      ],
      "metadata": {
        "colab": {
          "base_uri": "https://localhost:8080/"
        },
        "id": "uE1arBYFlhG-",
        "outputId": "aae64b55-79c8-43af-8998-deca7c4d36fe"
      },
      "execution_count": 21,
      "outputs": [
        {
          "output_type": "stream",
          "name": "stdout",
          "text": [
            "+-----------+-------------+-----------+----+-----------------+\n",
            "|star_rating|helpful_votes|total_votes|vine|verified_purchase|\n",
            "+-----------+-------------+-----------+----+-----------------+\n",
            "|          5|          250|        274|   N|                Y|\n",
            "|          1|           28|         30|   N|                Y|\n",
            "|          1|            0|         20|   N|                Y|\n",
            "|          5|           23|         26|   N|                Y|\n",
            "|          2|           32|         42|   N|                N|\n",
            "|          1|            0|         20|   N|                Y|\n",
            "|          1|           85|         95|   N|                Y|\n",
            "|          5|           28|         32|   N|                Y|\n",
            "|          5|           23|         26|   N|                Y|\n",
            "|          1|           20|         22|   N|                N|\n",
            "+-----------+-------------+-----------+----+-----------------+\n",
            "only showing top 10 rows\n",
            "\n"
          ]
        }
      ]
    },
    {
      "cell_type": "code",
      "source": [
        "# Filter for greater than 50% helpful vote percentage\n",
        "helpful_votes_df = selected_grocery_reveiws_df.filter(selected_grocery_reveiws_df[\"helpful_votes\"]/selected_grocery_reveiws_df[\"total_votes\"] >= 0.5)\n",
        "helpful_votes_df.show(10)"
      ],
      "metadata": {
        "colab": {
          "base_uri": "https://localhost:8080/"
        },
        "id": "lVuDiFcHyUcz",
        "outputId": "6043553d-1792-4fbc-f9e1-ff0e0bf6b94a"
      },
      "execution_count": 23,
      "outputs": [
        {
          "output_type": "stream",
          "name": "stdout",
          "text": [
            "+-----------+-------------+-----------+----+-----------------+\n",
            "|star_rating|helpful_votes|total_votes|vine|verified_purchase|\n",
            "+-----------+-------------+-----------+----+-----------------+\n",
            "|          5|          250|        274|   N|                Y|\n",
            "|          1|           28|         30|   N|                Y|\n",
            "|          5|           23|         26|   N|                Y|\n",
            "|          2|           32|         42|   N|                N|\n",
            "|          1|           85|         95|   N|                Y|\n",
            "|          5|           28|         32|   N|                Y|\n",
            "|          5|           23|         26|   N|                Y|\n",
            "|          1|           20|         22|   N|                N|\n",
            "|          5|           37|         50|   N|                N|\n",
            "|          5|           35|         36|   N|                Y|\n",
            "+-----------+-------------+-----------+----+-----------------+\n",
            "only showing top 10 rows\n",
            "\n"
          ]
        }
      ]
    },
    {
      "cell_type": "code",
      "source": [
        " # Paid reviews\n",
        "paid_df = helpful_votes_df.filter(helpful_votes_df['vine']== 'Y')\n",
        "paid_df.describe().show(10)"
      ],
      "metadata": {
        "colab": {
          "base_uri": "https://localhost:8080/"
        },
        "id": "wQfTWzlqzvHI",
        "outputId": "21fc9218-5d10-4a79-d0d6-9e792fb77e16"
      },
      "execution_count": 24,
      "outputs": [
        {
          "output_type": "stream",
          "name": "stdout",
          "text": [
            "+-------+------------------+-----------------+------------------+----+-----------------+\n",
            "|summary|       star_rating|    helpful_votes|       total_votes|vine|verified_purchase|\n",
            "+-------+------------------+-----------------+------------------+----+-----------------+\n",
            "|  count|                61|               61|                61|  61|               61|\n",
            "|   mean|3.6065573770491803|42.85245901639344| 48.01639344262295|null|             null|\n",
            "| stddev|1.3450983672156989|44.67953896568084|46.452302348135795|null|             null|\n",
            "|    min|                 1|               11|                20|   Y|                N|\n",
            "|    max|                 5|              253|               258|   Y|                Y|\n",
            "+-------+------------------+-----------------+------------------+----+-----------------+\n",
            "\n"
          ]
        }
      ]
    },
    {
      "cell_type": "code",
      "source": [
        " # unPaid reviews\n",
        "unpaid_df = helpful_votes_df.filter(helpful_votes_df['vine']== 'N')\n",
        "unpaid_df.describe().show()"
      ],
      "metadata": {
        "colab": {
          "base_uri": "https://localhost:8080/"
        },
        "id": "vy2JtfNSyUvJ",
        "outputId": "21372c37-b22a-4421-e7ac-6a05e06f0377"
      },
      "execution_count": 25,
      "outputs": [
        {
          "output_type": "stream",
          "name": "stdout",
          "text": [
            "+-------+------------------+-----------------+------------------+-----+-----------------+\n",
            "|summary|       star_rating|    helpful_votes|       total_votes| vine|verified_purchase|\n",
            "+-------+------------------+-----------------+------------------+-----+-----------------+\n",
            "|  count|             28287|            28287|             28287|28287|            28287|\n",
            "|   mean|3.6893272528016405|51.02739774454697| 57.09046558489766| null|             null|\n",
            "| stddev|1.6734997111551118|207.9803698815203|216.96989211397178| null|             null|\n",
            "|    min|                 1|               10|                20|    N|                N|\n",
            "|    max|                 5|            23755|             24170|    N|                Y|\n",
            "+-------+------------------+-----------------+------------------+-----+-----------------+\n",
            "\n"
          ]
        }
      ]
    },
    {
      "cell_type": "markdown",
      "source": [
        "It seems that the aggregates for the star_rating is comparable between the \"vine=Y\" group and the unpaid \"vine=N\" group. So the review from the vine group is trustworthy"
      ],
      "metadata": {
        "id": "ltiy5kzL9h-r"
      }
    }
  ]
}